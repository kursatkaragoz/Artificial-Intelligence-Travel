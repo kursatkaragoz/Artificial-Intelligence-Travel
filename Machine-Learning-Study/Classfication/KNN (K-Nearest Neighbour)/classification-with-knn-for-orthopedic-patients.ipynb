{
 "cells": [
  {
   "cell_type": "code",
   "execution_count": 2,
   "metadata": {
    "_cell_guid": "b1076dfc-b9ad-4769-8c92-a6c4dae69d19",
    "_uuid": "8f2839f25d086af736a60e9eeb907d3b93b6e0e5"
   },
   "outputs": [],
   "source": [
    "\n",
    "import numpy as np # linear algebra\n",
    "import pandas as pd # data processing, CSV file I/O (e.g. pd.read_csv)\n",
    "import matplotlib.pyplot as plt"
   ]
  },
  {
   "cell_type": "markdown",
   "metadata": {},
   "source": [
    "# INTRODUCTION\n",
    "-  (Our aim in this kernel is to classify the orthopedic patients using the K Nearest Neighborhood algorithm (KNN) using their biomedical features.)\n",
    "- Bu kernelde amacımız: biomedikal featurelerini kullanarak ortopedik hastalar için K Nearest Neighborhood (KNN) algoritması ile sınıflandırma yapmaktır.\n",
    "- KNN algoritmasından bahsedecek olursak:\n",
    "\n",
    "        KNN algoritması bir sınıflandırma algoritmasıdır. Yapacağı işlem temel olarak verilen gözlem noktalarının\n",
    "        hangi sınıfa ait olduğunu belirlemektir.\n",
    "        Hangi sınıfa ait olduğunu belirlemek için train(öğrenme) veri setinde yer alan noktaların uzaklıklarını (distances)referans alarak sınıflandırma işlemi yapar. Test veri setinde yer alan noktalar ile öğrenme veri setinde yer alan noktaların birbirlerine olan uzaklıkları hesaplanır. En yakın K adet uzaklık belirlenir. Belirlenen K adet uzaklıklara ait gözlem noktalarının sınıf etiketleri (class label) kıyaslanır. \n",
    "        Örnek verecek olursa 3 adet gözlem noktasının sınıf etiketlerinin \"abnormal\", \"normal\", \"abnormal\" olduğunu varsayalım. Hangi sınıfa ait olduğunu belirlemek için unique sınıf değerlerinin count değerine bakılır, yani 2 adet \"abnormal\", 1 adet \"normal\" etiket bulunduğuna göre test veri setinde yer alan ilgili gözlemin yeni sınıf değeri \"abnormal\" olarak belirlenir.\n",
    "        Bu işlem tüm test veri setindeki her gözlem noktasına uygulanarak her bir gözlemin sınıf değeri tahmin edilir.\n",
    "        Yapılan tahmin işleminin doğruluğunu sınamak için Mean Square Error (MSE) tekniği kullanılır. MSE değerini en az indirgemek hedeftir.\n",
    "  **Hangi K parametresinin en iyi sonucu vereceği bilinmemektedir. K parametresi bir hyper parameter'dir. Yani model kurulduktan sonra hangi k değeri en iyi sonucu verecek denenerek bulunabilir.**\n",
    "\n",
    "1.) [Data Info](#1)<br>\n",
    "2.) [Data Visualization](#2)<br>\n",
    "3.) [Determination and Seperation of Data](#3)<br>\n",
    "4.) [Data Normalization](#4)<br>\n",
    "5.) [Train Test Split](#5)<br>\n",
    "6.) [create model KNN](#6)<br>\n",
    "7.) [Accuracy Visualize](#7)<br>\n",
    "8.) [Conclusion](#8)<br>\n",
    "\n",
    "\n"
   ]
  },
  {
   "cell_type": "markdown",
   "metadata": {},
   "source": [
    "<a id=\"1\"> </a>\n",
    "# Data Info"
   ]
  },
  {
   "cell_type": "code",
   "execution_count": 5,
   "metadata": {
    "_cell_guid": "79c7e3d0-c299-4dcb-8224-4455121ee9b0",
    "_uuid": "d629ff2d2480ee46fbb7e2d37f6b5fab8052498a"
   },
   "outputs": [
    {
     "name": "stdout",
     "output_type": "stream",
     "text": [
      "<class 'pandas.core.frame.DataFrame'>\n",
      "RangeIndex: 310 entries, 0 to 309\n",
      "Data columns (total 7 columns):\n",
      "pelvic_incidence            310 non-null float64\n",
      "pelvic_tilt                 310 non-null float64\n",
      "lumbar_lordosis_angle       310 non-null float64\n",
      "sacral_slope                310 non-null float64\n",
      "pelvic_radius               310 non-null float64\n",
      "degree_spondylolisthesis    310 non-null float64\n",
      "class                       310 non-null object\n",
      "dtypes: float64(6), object(1)\n",
      "memory usage: 17.1+ KB\n"
     ]
    }
   ],
   "source": [
    "data = pd.read_csv(\"column_3C_weka.csv\")\n",
    "data.info()"
   ]
  },
  {
   "cell_type": "code",
   "execution_count": 3,
   "metadata": {},
   "outputs": [
    {
     "data": {
      "text/html": [
       "<div>\n",
       "<style scoped>\n",
       "    .dataframe tbody tr th:only-of-type {\n",
       "        vertical-align: middle;\n",
       "    }\n",
       "\n",
       "    .dataframe tbody tr th {\n",
       "        vertical-align: top;\n",
       "    }\n",
       "\n",
       "    .dataframe thead th {\n",
       "        text-align: right;\n",
       "    }\n",
       "</style>\n",
       "<table border=\"1\" class=\"dataframe\">\n",
       "  <thead>\n",
       "    <tr style=\"text-align: right;\">\n",
       "      <th></th>\n",
       "      <th>pelvic_incidence</th>\n",
       "      <th>pelvic_tilt</th>\n",
       "      <th>lumbar_lordosis_angle</th>\n",
       "      <th>sacral_slope</th>\n",
       "      <th>pelvic_radius</th>\n",
       "      <th>degree_spondylolisthesis</th>\n",
       "      <th>class</th>\n",
       "    </tr>\n",
       "  </thead>\n",
       "  <tbody>\n",
       "    <tr>\n",
       "      <th>0</th>\n",
       "      <td>63.027818</td>\n",
       "      <td>22.552586</td>\n",
       "      <td>39.609117</td>\n",
       "      <td>40.475232</td>\n",
       "      <td>98.672917</td>\n",
       "      <td>-0.254400</td>\n",
       "      <td>Hernia</td>\n",
       "    </tr>\n",
       "    <tr>\n",
       "      <th>1</th>\n",
       "      <td>39.056951</td>\n",
       "      <td>10.060991</td>\n",
       "      <td>25.015378</td>\n",
       "      <td>28.995960</td>\n",
       "      <td>114.405425</td>\n",
       "      <td>4.564259</td>\n",
       "      <td>Hernia</td>\n",
       "    </tr>\n",
       "    <tr>\n",
       "      <th>2</th>\n",
       "      <td>68.832021</td>\n",
       "      <td>22.218482</td>\n",
       "      <td>50.092194</td>\n",
       "      <td>46.613539</td>\n",
       "      <td>105.985135</td>\n",
       "      <td>-3.530317</td>\n",
       "      <td>Hernia</td>\n",
       "    </tr>\n",
       "    <tr>\n",
       "      <th>3</th>\n",
       "      <td>69.297008</td>\n",
       "      <td>24.652878</td>\n",
       "      <td>44.311238</td>\n",
       "      <td>44.644130</td>\n",
       "      <td>101.868495</td>\n",
       "      <td>11.211523</td>\n",
       "      <td>Hernia</td>\n",
       "    </tr>\n",
       "    <tr>\n",
       "      <th>4</th>\n",
       "      <td>49.712859</td>\n",
       "      <td>9.652075</td>\n",
       "      <td>28.317406</td>\n",
       "      <td>40.060784</td>\n",
       "      <td>108.168725</td>\n",
       "      <td>7.918501</td>\n",
       "      <td>Hernia</td>\n",
       "    </tr>\n",
       "  </tbody>\n",
       "</table>\n",
       "</div>"
      ],
      "text/plain": [
       "   pelvic_incidence  pelvic_tilt  lumbar_lordosis_angle  sacral_slope  \\\n",
       "0         63.027818    22.552586              39.609117     40.475232   \n",
       "1         39.056951    10.060991              25.015378     28.995960   \n",
       "2         68.832021    22.218482              50.092194     46.613539   \n",
       "3         69.297008    24.652878              44.311238     44.644130   \n",
       "4         49.712859     9.652075              28.317406     40.060784   \n",
       "\n",
       "   pelvic_radius  degree_spondylolisthesis   class  \n",
       "0      98.672917                 -0.254400  Hernia  \n",
       "1     114.405425                  4.564259  Hernia  \n",
       "2     105.985135                 -3.530317  Hernia  \n",
       "3     101.868495                 11.211523  Hernia  \n",
       "4     108.168725                  7.918501  Hernia  "
      ]
     },
     "execution_count": 3,
     "metadata": {},
     "output_type": "execute_result"
    }
   ],
   "source": [
    "data.head()"
   ]
  },
  {
   "cell_type": "markdown",
   "metadata": {},
   "source": [
    "    Yapılacak sınıflandırma işleminde\n",
    "    test veri setinde yer alan gözlem noktalarının aşağıda yer alan hastalık türlerinden\n",
    "    hangisine sahip olduğu tahmin edilecektir.\n",
    "    Normalde test veri seti dataset'in kendisinden türediği için:\n",
    "    Class labellarıda bellidir fakat biz tahminlerimiz ile gerçekte olan sonuçları kıyaslayarak\n",
    "    kurduğumuz modelin doğruluğunu ve hata payını ortaya çıkaracağız.\n",
    "    \n",
    "    -------------------------------------------------------------------------------------\n",
    "       \n",
    "    In the classification process to be made\n",
    "    One of the disease types listed below is the observation points in the test dataset.\n",
    "    which one will be guessed.\n",
    "    Normally, since the test dataset is derived from dataset itself:\n",
    "    Class labels are also obvious, but by comparing our estimates with the actual results\n",
    "    We will reveal the accuracy and margin of error of the model we have installed."
   ]
  },
  {
   "cell_type": "code",
   "execution_count": 4,
   "metadata": {},
   "outputs": [
    {
     "data": {
      "text/plain": [
       "Spondylolisthesis    150\n",
       "Normal               100\n",
       "Hernia                60\n",
       "Name: class, dtype: int64"
      ]
     },
     "execution_count": 4,
     "metadata": {},
     "output_type": "execute_result"
    }
   ],
   "source": [
    "data['class'].value_counts()\n",
    "# Class label1 = Spondylolisthesis (Ortopedi bir hastalık türü)\n",
    "# Class label2 = Normal\n",
    "# Class label3 = Hernia (Fıtık hastalığı)"
   ]
  },
  {
   "cell_type": "markdown",
   "metadata": {},
   "source": [
    "<a id=\"2\"> </a>\n",
    "# Data Visualization"
   ]
  },
  {
   "cell_type": "code",
   "execution_count": 5,
   "metadata": {},
   "outputs": [],
   "source": [
    "spl = data[data['class'] == 'Spondylolisthesis']\n",
    "normal = data[data['class'] == 'Normal']\n",
    "hernia = data[data['class'] == 'Hernia']"
   ]
  },
  {
   "cell_type": "code",
   "execution_count": 6,
   "metadata": {},
   "outputs": [
    {
     "data": {
      "image/png": "[encoded data removed]",
      "text/plain": [
       "<Figure size 432x288 with 1 Axes>"
      ]
     },
     "metadata": {
      "needs_background": "light"
     },
     "output_type": "display_data"
    }
   ],
   "source": [
    "# Scatter plot\n",
    "plt.scatter(spl.lumbar_lordosis_angle, spl.sacral_slope, label=\"Spondylolisthesis\",color=\"red\",alpha=0.5)\n",
    "plt.scatter(normal.lumbar_lordosis_angle, normal.sacral_slope, label=\"Normal\",color=\"Green\",alpha=0.5)\n",
    "plt.scatter(hernia.lumbar_lordosis_angle, hernia.sacral_slope, label=\"Hernia\",color=\"Blue\",alpha=0.2)\n",
    "plt.xlabel(\"lumbar_lordosis_angle\")\n",
    "plt.ylabel(\"sacral_slope\")\n",
    "plt.legend()\n",
    "plt.show()"
   ]
  },
  {
   "cell_type": "markdown",
   "metadata": {},
   "source": [
    "<a id = \"3\"> </a>\n",
    "# Determination and Seperation of Data"
   ]
  },
  {
   "cell_type": "code",
   "execution_count": 7,
   "metadata": {},
   "outputs": [
    {
     "data": {
      "text/html": [
       "<div>\n",
       "<style scoped>\n",
       "    .dataframe tbody tr th:only-of-type {\n",
       "        vertical-align: middle;\n",
       "    }\n",
       "\n",
       "    .dataframe tbody tr th {\n",
       "        vertical-align: top;\n",
       "    }\n",
       "\n",
       "    .dataframe thead th {\n",
       "        text-align: right;\n",
       "    }\n",
       "</style>\n",
       "<table border=\"1\" class=\"dataframe\">\n",
       "  <thead>\n",
       "    <tr style=\"text-align: right;\">\n",
       "      <th></th>\n",
       "      <th>pelvic_incidence</th>\n",
       "      <th>pelvic_tilt</th>\n",
       "      <th>lumbar_lordosis_angle</th>\n",
       "      <th>sacral_slope</th>\n",
       "      <th>pelvic_radius</th>\n",
       "      <th>degree_spondylolisthesis</th>\n",
       "    </tr>\n",
       "  </thead>\n",
       "  <tbody>\n",
       "    <tr>\n",
       "      <th>0</th>\n",
       "      <td>63.027818</td>\n",
       "      <td>22.552586</td>\n",
       "      <td>39.609117</td>\n",
       "      <td>40.475232</td>\n",
       "      <td>98.672917</td>\n",
       "      <td>-0.254400</td>\n",
       "    </tr>\n",
       "    <tr>\n",
       "      <th>1</th>\n",
       "      <td>39.056951</td>\n",
       "      <td>10.060991</td>\n",
       "      <td>25.015378</td>\n",
       "      <td>28.995960</td>\n",
       "      <td>114.405425</td>\n",
       "      <td>4.564259</td>\n",
       "    </tr>\n",
       "    <tr>\n",
       "      <th>2</th>\n",
       "      <td>68.832021</td>\n",
       "      <td>22.218482</td>\n",
       "      <td>50.092194</td>\n",
       "      <td>46.613539</td>\n",
       "      <td>105.985135</td>\n",
       "      <td>-3.530317</td>\n",
       "    </tr>\n",
       "    <tr>\n",
       "      <th>3</th>\n",
       "      <td>69.297008</td>\n",
       "      <td>24.652878</td>\n",
       "      <td>44.311238</td>\n",
       "      <td>44.644130</td>\n",
       "      <td>101.868495</td>\n",
       "      <td>11.211523</td>\n",
       "    </tr>\n",
       "    <tr>\n",
       "      <th>4</th>\n",
       "      <td>49.712859</td>\n",
       "      <td>9.652075</td>\n",
       "      <td>28.317406</td>\n",
       "      <td>40.060784</td>\n",
       "      <td>108.168725</td>\n",
       "      <td>7.918501</td>\n",
       "    </tr>\n",
       "  </tbody>\n",
       "</table>\n",
       "</div>"
      ],
      "text/plain": [
       "   pelvic_incidence  pelvic_tilt  lumbar_lordosis_angle  sacral_slope  \\\n",
       "0         63.027818    22.552586              39.609117     40.475232   \n",
       "1         39.056951    10.060991              25.015378     28.995960   \n",
       "2         68.832021    22.218482              50.092194     46.613539   \n",
       "3         69.297008    24.652878              44.311238     44.644130   \n",
       "4         49.712859     9.652075              28.317406     40.060784   \n",
       "\n",
       "   pelvic_radius  degree_spondylolisthesis  \n",
       "0      98.672917                 -0.254400  \n",
       "1     114.405425                  4.564259  \n",
       "2     105.985135                 -3.530317  \n",
       "3     101.868495                 11.211523  \n",
       "4     108.168725                  7.918501  "
      ]
     },
     "execution_count": 7,
     "metadata": {},
     "output_type": "execute_result"
    }
   ],
   "source": [
    "# Normal = 0   , Spondylolisthesis = 1, Hernia=2\n",
    "data['class'] = [0 if each == \"Normal\" else 1 if each == \"Spondylolisthesis\" else 2 for each in data['class']]\n",
    "\n",
    "y = data['class'].values\n",
    "x_data = data.drop(['class'],axis=1)\n",
    "x_data.head()"
   ]
  },
  {
   "cell_type": "markdown",
   "metadata": {},
   "source": [
    "<a id=\"4\" > </a>\n",
    "# Data Normalization\n",
    "\n",
    "\n",
    "![a](https://i.hizliresim.com/m3ppNz.png)\n"
   ]
  },
  {
   "cell_type": "code",
   "execution_count": 8,
   "metadata": {},
   "outputs": [
    {
     "data": {
      "text/html": [
       "<div>\n",
       "<style scoped>\n",
       "    .dataframe tbody tr th:only-of-type {\n",
       "        vertical-align: middle;\n",
       "    }\n",
       "\n",
       "    .dataframe tbody tr th {\n",
       "        vertical-align: top;\n",
       "    }\n",
       "\n",
       "    .dataframe thead th {\n",
       "        text-align: right;\n",
       "    }\n",
       "</style>\n",
       "<table border=\"1\" class=\"dataframe\">\n",
       "  <thead>\n",
       "    <tr style=\"text-align: right;\">\n",
       "      <th></th>\n",
       "      <th>pelvic_incidence</th>\n",
       "      <th>pelvic_tilt</th>\n",
       "      <th>lumbar_lordosis_angle</th>\n",
       "      <th>sacral_slope</th>\n",
       "      <th>pelvic_radius</th>\n",
       "      <th>degree_spondylolisthesis</th>\n",
       "    </tr>\n",
       "  </thead>\n",
       "  <tbody>\n",
       "    <tr>\n",
       "      <th>0</th>\n",
       "      <td>0.355688</td>\n",
       "      <td>0.519900</td>\n",
       "      <td>0.229180</td>\n",
       "      <td>0.250857</td>\n",
       "      <td>0.307461</td>\n",
       "      <td>0.025148</td>\n",
       "    </tr>\n",
       "    <tr>\n",
       "      <th>1</th>\n",
       "      <td>0.124501</td>\n",
       "      <td>0.296783</td>\n",
       "      <td>0.098578</td>\n",
       "      <td>0.144629</td>\n",
       "      <td>0.476649</td>\n",
       "      <td>0.036365</td>\n",
       "    </tr>\n",
       "    <tr>\n",
       "      <th>2</th>\n",
       "      <td>0.411666</td>\n",
       "      <td>0.513932</td>\n",
       "      <td>0.322995</td>\n",
       "      <td>0.307661</td>\n",
       "      <td>0.386097</td>\n",
       "      <td>0.017523</td>\n",
       "    </tr>\n",
       "    <tr>\n",
       "      <th>3</th>\n",
       "      <td>0.416151</td>\n",
       "      <td>0.557414</td>\n",
       "      <td>0.271260</td>\n",
       "      <td>0.289436</td>\n",
       "      <td>0.341826</td>\n",
       "      <td>0.051838</td>\n",
       "    </tr>\n",
       "    <tr>\n",
       "      <th>4</th>\n",
       "      <td>0.227272</td>\n",
       "      <td>0.289479</td>\n",
       "      <td>0.128129</td>\n",
       "      <td>0.247022</td>\n",
       "      <td>0.409579</td>\n",
       "      <td>0.044173</td>\n",
       "    </tr>\n",
       "  </tbody>\n",
       "</table>\n",
       "</div>"
      ],
      "text/plain": [
       "   pelvic_incidence  pelvic_tilt  lumbar_lordosis_angle  sacral_slope  \\\n",
       "0          0.355688     0.519900               0.229180      0.250857   \n",
       "1          0.124501     0.296783               0.098578      0.144629   \n",
       "2          0.411666     0.513932               0.322995      0.307661   \n",
       "3          0.416151     0.557414               0.271260      0.289436   \n",
       "4          0.227272     0.289479               0.128129      0.247022   \n",
       "\n",
       "   pelvic_radius  degree_spondylolisthesis  \n",
       "0       0.307461                  0.025148  \n",
       "1       0.476649                  0.036365  \n",
       "2       0.386097                  0.017523  \n",
       "3       0.341826                  0.051838  \n",
       "4       0.409579                  0.044173  "
      ]
     },
     "execution_count": 8,
     "metadata": {},
     "output_type": "execute_result"
    }
   ],
   "source": [
    "x = (x_data - np.min(x_data)) / (np.max(x_data) - np.min(x_data))\n",
    "x.head()"
   ]
  },
  {
   "cell_type": "markdown",
   "metadata": {},
   "source": [
    "<a id =\"5\" ></a>\n",
    "# Train Test Split\n",
    "\n",
    "    Train test split sklearn kütüphanesinin bir modülüdür.\n",
    "    Bu modül ile veri seti öğrenme veri seti, öğrenme veri seti etiketi, test veri seti ve test veri seti etiketleri olmak üzere 4 değişkene bölümlenebiliyor.\n",
    "    Bölümleme işleminde parametreleri incelersek, x öğrenme veri setini (train_dataset), \n",
    "    y test veri setini (test_dataset), test_size ise data setinin kaçta kaçını test için kullanılacağını belirleyen parametrelerdir.\n",
    "    random_state parametresine verdiğimiz rastgele bir değerle de her split etme işleminde birinci seferde oluşan random grubunun birdahaki seferlerde de aynı şekilde olmasını istediğimizi belirtiyoruz.\n",
    "    Yani random_state'e verilen değeri index olarak düşünürsek bu modül 2. kez kullanılırsa index'imizi bakarak yine aynı x_öğrenme, x_test, y_öğrenme, y_test dörtlemesini karşımıza çıkaracaktır. Değerler değiştirilmeden bu sayede alacağımız MSE ve başarı skorları değişmeyecektir.\n",
    "    \n",
    "    dataset'de yer alan verilerin %40'ı test için, %60'ı ise öğrenim için kullanılacak.\n",
    "    \n",
    " ----------------------------------------------------------------------------------------------------------------\n",
    " \n",
    "     The train test is a module of the split sklearn library.\n",
    "    With this module, the data set can be divided into 4 variables: learning data set, learning data set label, test data set and test data set options.\n",
    "    If we examine the evaluation in the segmentation process, x learning data set (train_dataset),\n",
    "    y is the test dataset (test_dataset), and test_size are parameters that determine how many of the dataset will be used for testing.\n",
    "    It is done in the same way the next time of the random group formed in the first time in its split operation with a random value we give to the random_state parameter.\n",
    "    In other words, if we consider this value as the value index given to random_state, you can see the same x_ learning, x_test, y_ learning, y_test quadrances by using our index. MSE and success scores will not change.\n",
    "\n",
    "    40% of dataset is required for testing and 60% for learning."
   ]
  },
  {
   "cell_type": "code",
   "execution_count": 9,
   "metadata": {},
   "outputs": [],
   "source": [
    "# train test split\n",
    "from sklearn.model_selection import train_test_split\n",
    "x_train,x_test,y_train,y_test = train_test_split(x,y,test_size=0.4,random_state=1)"
   ]
  },
  {
   "cell_type": "markdown",
   "metadata": {},
   "source": [
    "<a id=\"6\" > </a>\n",
    "# Create Model KNN\n",
    "    Sklearn kütüphanesinin neighbours modülünü importla başladık\n",
    "    n_neighbors yani K parametremizi belirledik.\n",
    "    modelimize x_train ve y_train yani öğrenme veri seti ve etiketlerini vererek eğittik,öğrettik.\n",
    "    test veri setinde yer alan gözlemleri modelimizi kullanarak tahmin ettik.\n",
    "    ----------------------------------------------------------------------------   \n",
    "    We started importing the neighbors module of the Sklearn library\n",
    "    We have determined our n_neighbors, K parameter.\n",
    "    We trained and taught x_train and y_train, that is, learning data set and tags.\n",
    "    using the ground observations model in the test data set."
   ]
  },
  {
   "cell_type": "code",
   "execution_count": 10,
   "metadata": {},
   "outputs": [],
   "source": [
    "from sklearn.neighbors import KNeighborsClassifier\n",
    "knn = KNeighborsClassifier(n_neighbors = 3) # n_neighbors = k\n",
    "knn.fit(x_train,y_train)\n",
    "prediction = knn.predict(x_test)"
   ]
  },
  {
   "cell_type": "code",
   "execution_count": 11,
   "metadata": {},
   "outputs": [
    {
     "data": {
      "text/plain": [
       "array([1, 2, 1, 1, 0, 1, 0, 1, 1, 1, 0, 0, 0, 0, 0, 0, 2, 0, 2, 0, 0, 0,\n",
       "       2, 1, 2, 1, 1, 1, 0, 1, 1, 0, 0, 0, 2, 1, 2, 2, 1, 1, 0, 0, 1, 0,\n",
       "       1, 0, 0, 2, 1, 0, 2, 0, 2, 1, 0, 1, 2, 1, 1, 1, 0, 1, 2, 2, 1, 1,\n",
       "       0, 1, 1, 0, 1, 1, 1, 0, 0, 2, 1, 1, 1, 0, 0, 1, 1, 0, 0, 1, 1, 1,\n",
       "       0, 0, 2, 2, 1, 1, 0, 1, 2, 1, 0, 0, 1, 0, 0, 0, 2, 2, 1, 2, 1, 1,\n",
       "       0, 1, 1, 1, 1, 0, 2, 0, 0, 1, 1, 1, 0, 0])"
      ]
     },
     "execution_count": 11,
     "metadata": {},
     "output_type": "execute_result"
    }
   ],
   "source": [
    "prediction"
   ]
  },
  {
   "cell_type": "code",
   "execution_count": 12,
   "metadata": {},
   "outputs": [
    {
     "name": "stdout",
     "output_type": "stream",
     "text": [
      "3 nn score: 0.7338709677419355 \n"
     ]
    }
   ],
   "source": [
    "print(\"{} nn score: {} \".format(3,knn.score(x_test,y_test))) #k = hyper parameter"
   ]
  },
  {
   "cell_type": "markdown",
   "metadata": {},
   "source": [
    "<a id=\"7\" ></a>\n",
    "# Accuracy Visualize\n",
    "    \n",
    "    Modelimizin Doğruluk değerlerinin görselleştirmesi için izlediğimiz yol:\n",
    "    k parametresi için 1 ile 50 arasında değerler vererek toplam'da 50 kez eğiterek\n",
    "    50 çalışma sonucu oluşan score değerlerini score_list dizesine aktardık.\n",
    "    Daha sonra bu değerleri plot ettik.\n",
    "    ----------------------------------------------------------------------\n",
    "    \n",
    "    The way we follow to visualize the accuracy values ​​of our model:\n",
    "    By giving values ​​between 1 and 50 for the k parameter, by training 50 times in total\n",
    "    We transferred the score values ​​of 50 studies to score_list string.\n",
    "    Then we plotted these values."
   ]
  },
  {
   "cell_type": "code",
   "execution_count": 13,
   "metadata": {},
   "outputs": [
    {
     "data": {
      "image/png": "[encoded data removed]",
      "text/plain": [
       "<Figure size 432x288 with 1 Axes>"
      ]
     },
     "metadata": {
      "needs_background": "light"
     },
     "output_type": "display_data"
    }
   ],
   "source": [
    "score_list = []\n",
    "for each in range(1,50):\n",
    "    knn2 = KNeighborsClassifier(n_neighbors = each) # n_neighbors = k\n",
    "    knn2.fit(x_train,y_train)\n",
    "    knn2.score(x_test,y_test)\n",
    "    score_list.append(knn2.score(x_test,y_test))\n",
    "plt.plot(range(1,50),score_list)\n",
    "plt.xlabel(\"K Values\")\n",
    "plt.ylabel(\"Accuracy( K Values)\")\n",
    "plt.show()"
   ]
  },
  {
   "cell_type": "markdown",
   "metadata": {},
   "source": [
    "<a id=\"8\"></a>\n",
    "# Conclusion"
   ]
  },
  {
   "cell_type": "code",
   "execution_count": 14,
   "metadata": {},
   "outputs": [
    {
     "name": "stdout",
     "output_type": "stream",
     "text": [
      "for max score ==> k=41,score=0.7741935483870968\n"
     ]
    }
   ],
   "source": [
    "max_accuracy_value= max(score_list) # what is max score value ?\n",
    "max_accuracy_k = score_list.index(max_accuracy_value)+1   # what is hyper parameter(k) value for max score ?\n",
    "print(\"for max score ==> k={},score={}\".format(max_accuracy_k,max_accuracy_value))"
   ]
  }
 ],
 "metadata": {
  "kernelspec": {
   "display_name": "Python 3",
   "language": "python",
   "name": "python3"
  },
  "language_info": {
   "codemirror_mode": {
    "name": "ipython",
    "version": 3
   },
   "file_extension": ".py",
   "mimetype": "text/x-python",
   "name": "python",
   "nbconvert_exporter": "python",
   "pygments_lexer": "ipython3",
   "version": "3.7.4"
  }
 },
 "nbformat": 4,
 "nbformat_minor": 4
}
